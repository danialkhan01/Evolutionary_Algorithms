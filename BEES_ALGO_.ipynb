{
  "nbformat": 4,
  "nbformat_minor": 0,
  "metadata": {
    "colab": {
      "provenance": [],
      "authorship_tag": "ABX9TyM8O7z7FdCT1kRJrCpxiLkC",
      "include_colab_link": true
    },
    "kernelspec": {
      "name": "python3",
      "display_name": "Python 3"
    },
    "language_info": {
      "name": "python"
    }
  },
  "cells": [
    {
      "cell_type": "markdown",
      "metadata": {
        "id": "view-in-github",
        "colab_type": "text"
      },
      "source": [
        "<a href=\"https://colab.research.google.com/github/Guneshwar24/ACIT4610-Evolutionary-Algo/blob/main/BEES_ALGO_.ipynb\" target=\"_parent\"><img src=\"https://colab.research.google.com/assets/colab-badge.svg\" alt=\"Open In Colab\"/></a>"
      ]
    },
    {
      "cell_type": "markdown",
      "source": [
        "### BEES ALGORITHM"
      ],
      "metadata": {
        "id": "tiseITXDiwtD"
      }
    },
    {
      "cell_type": "code",
      "execution_count": 2,
      "metadata": {
        "colab": {
          "base_uri": "https://localhost:8080/",
          "height": 1000
        },
        "id": "YOa_GvqXM9W9",
        "outputId": "decd54f7-f727-4636-8060-b9dd87c19a0f"
      },
      "outputs": [
        {
          "name": "stdout",
          "output_type": "stream",
          "text": [
            "Enter the size of the board (n) (default 8): 8\n",
            "Enter the number of bees (default 200): \n",
            "Enter the number of elite bees (default 4): \n",
            "Enter the number of generations (default 1000): \n",
            "Enter the initial position for the first queen (0 to n-1) or 'random': 0,1,2,3,4,5,6,7\n"
          ]
        },
        {
          "output_type": "display_data",
          "data": {
            "text/plain": [
              "<Figure size 640x480 with 1 Axes>"
            ],
            "image/png": "[encoded data removed]"
          },
          "metadata": {}
        },
        {
          "output_type": "stream",
          "name": "stdout",
          "text": [
            "Generation 0: Best Fitness = 7\n",
            "Solution found in generation 1: \n",
            "Final solution:\n"
          ]
        },
        {
          "output_type": "display_data",
          "data": {
            "text/plain": [
              "<Figure size 640x480 with 1 Axes>"
            ],
            "image/png": "[encoded data removed]"
          },
          "metadata": {}
        },
        {
          "output_type": "stream",
          "name": "stdout",
          "text": [
            "[4, 1, 3, 6, 2, 7, 5, 0]\n",
            "Time taken to find a solution: 0.02 seconds\n"
          ]
        }
      ],
      "source": [
        "import random\n",
        "import time\n",
        "import numpy as np\n",
        "import matplotlib.pyplot as plt\n",
        "\n",
        "def initialize_population(num_bees, n, initial_queen_placement=None):\n",
        "    population = [initial_queen_placement] if initial_queen_placement else []\n",
        "    population.extend([[random.randint(0, n-1) for _ in range(n)] for _ in range(num_bees - len(population))])\n",
        "    return population\n",
        "\n",
        "def check_clashes(queen_positions):\n",
        "    clashes = 0\n",
        "    n = len(queen_positions)\n",
        "    for i in range(n):\n",
        "        for j in range(i+1, n):\n",
        "            if queen_positions[i] == queen_positions[j] or \\\n",
        "               abs(queen_positions[i] - queen_positions[j]) == j - i:\n",
        "                clashes += 1\n",
        "    return clashes\n",
        "\n",
        "def fitness(queen_positions):\n",
        "    return len(queen_positions) - check_clashes(queen_positions)\n",
        "\n",
        "def select_elite_bees(population, fitnesses, num_elite_bees):\n",
        "    sorted_bees = sorted(zip(population, fitnesses), key=lambda x: x[1], reverse=True)\n",
        "    return [bee for bee, fit in sorted_bees[:num_elite_bees]]\n",
        "\n",
        "def perform_bee_dance(bee):\n",
        "    n = len(bee)\n",
        "    neighbor_bee = bee[:]\n",
        "    i = random.randint(0, n-1)\n",
        "    neighbor_bee[i] = random.randint(0, n-1)\n",
        "    return neighbor_bee\n",
        "\n",
        "def bee_algorithm(n, num_bees, num_elite_bees, num_generations, initial_queen_placement):\n",
        "    population = initialize_population(num_bees, n, initial_queen_placement)\n",
        "    best_solution = None\n",
        "    best_fitness = -1\n",
        "\n",
        "    for generation in range(num_generations):\n",
        "        fitnesses = [fitness(bee) for bee in population]\n",
        "        elite_bees = select_elite_bees(population, fitnesses, num_elite_bees)\n",
        "        new_population = []\n",
        "\n",
        "        for bee in elite_bees:\n",
        "            for _ in range(num_bees // num_elite_bees):\n",
        "                neighbor_bee = perform_bee_dance(bee)\n",
        "                new_population.append(neighbor_bee)\n",
        "\n",
        "        for _ in range(num_bees - len(new_population)):\n",
        "            new_population.append(initialize_population(1, n)[0])\n",
        "\n",
        "        for bee, fit in zip(new_population, [fitness(b) for b in new_population]):\n",
        "            if fit > best_fitness:\n",
        "                best_solution, best_fitness = bee, fit\n",
        "\n",
        "        if best_fitness == n:\n",
        "            print(\"Solution found in generation {}: \".format(generation))\n",
        "            return best_solution\n",
        "\n",
        "        print(\"Generation {}: Best Fitness = {}\".format(generation, best_fitness))\n",
        "        population = new_population\n",
        "\n",
        "    print(\"No solution found.\")\n",
        "    return None\n",
        "\n",
        "def print_board(solution, title=\"n-Queens Solution\"):\n",
        "    if solution is None:\n",
        "        print(\"No solution found, so no plot will be generated.\")\n",
        "        return\n",
        "\n",
        "    board_size = len(solution)\n",
        "    chessboard = np.zeros((board_size, board_size), dtype=int)\n",
        "    for i in range(board_size):\n",
        "        for j in range(board_size):\n",
        "            if (i + j) % 2 == 0:\n",
        "                chessboard[i][j] = 1\n",
        "    fig, ax = plt.subplots()\n",
        "    cmap = plt.get_cmap('binary', 2)\n",
        "    ax.matshow(chessboard, cmap=cmap)\n",
        "    queen = u'\\u265B'  # Unicode character for queen\n",
        "    for row, col in enumerate(solution):\n",
        "        ax.text(col, row, queen, va='center', ha='center', color='red', fontsize=12)\n",
        "    plt.title(title)\n",
        "    plt.show()\n",
        "\n",
        "def get_input(prompt, default):\n",
        "    value = input(f\"{prompt} (default {default}): \").strip()\n",
        "    return int(value) if value else default\n",
        "\n",
        "if __name__ == \"__main__\":\n",
        "    n = get_input(\"Enter the size of the board (n)\", 8)\n",
        "    num_bees = get_input(\"Enter the number of bees\", 200)\n",
        "    num_elite_bees = get_input(\"Enter the number of elite bees\", 4)\n",
        "    num_generations = get_input(\"Enter the number of generations\", 1000)\n",
        "\n",
        "    while True:\n",
        "        initial_queen_placement = input(\"Enter the initial position for the first queen (0 to n-1) or 'random': \").strip()\n",
        "        if initial_queen_placement.lower() == 'random':\n",
        "            initial_queen_placement = None\n",
        "            break\n",
        "        else:\n",
        "            try:\n",
        "                initial_queen_placement = [int(x) for x in initial_queen_placement.split(',') if x.strip().isdigit()]\n",
        "                if len(initial_queen_placement) == n:\n",
        "                    print_board(initial_queen_placement, \"Initial Queen Placement\")\n",
        "                    break\n",
        "                else:\n",
        "                    print(f\"Invalid input. Please enter a list of {n} integers separated by commas, or 'random'.\")\n",
        "            except ValueError:\n",
        "                print(\"Invalid input. Make sure to enter numbers separated by commas.\")\n",
        "\n",
        "    start_time = time.time()\n",
        "    solution = bee_algorithm(n, num_bees, num_elite_bees, num_generations, initial_queen_placement)\n",
        "    elapsed_time = time.time() - start_time\n",
        "\n",
        "    if solution:\n",
        "        print(\"Final solution:\")\n",
        "        print_board(solution)\n",
        "        print(solution)\n",
        "        print(f\"Time taken to find a solution: {elapsed_time:.2f} seconds\")\n",
        "    else:\n",
        "        print(f\"No solution found in {elapsed_time:.2f} seconds.\")"
      ]
    },
    {
      "cell_type": "code",
      "source": [],
      "metadata": {
        "id": "UXA50uDgul-G"
      },
      "execution_count": null,
      "outputs": []
    }
  ]
}